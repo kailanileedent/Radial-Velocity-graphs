{
 "cells": [
  {
   "cell_type": "markdown",
   "metadata": {},
   "source": [
    "# Fitting Radial Velocity Data\n",
    "This example shows how to fit a dynamical model of a star and two planets to a set of radial velocity observations using the N-body integrator REBOUND and MCMC sampler emcee."
   ]
  },
  {
   "cell_type": "markdown",
   "metadata": {},
   "source": [
    "First, let's import the REBOUND, emcee, numpy, corner, and matplotlib packages."
   ]
  },
  {
   "cell_type": "code",
   "execution_count": 1448,
   "metadata": {},
   "outputs": [
    {
     "name": "stdout",
     "output_type": "stream",
     "text": [
      "Requirement already satisfied: rebound in /opt/anaconda3/lib/python3.12/site-packages (4.4.1)\n",
      "Requirement already satisfied: emcee in /opt/anaconda3/lib/python3.12/site-packages (3.1.6)\n",
      "Requirement already satisfied: numpy in /opt/anaconda3/lib/python3.12/site-packages (from emcee) (1.26.4)\n",
      "Requirement already satisfied: corner in /opt/anaconda3/lib/python3.12/site-packages (2.2.2)\n",
      "Requirement already satisfied: matplotlib>=2.1 in /opt/anaconda3/lib/python3.12/site-packages (from corner) (3.8.4)\n",
      "Requirement already satisfied: contourpy>=1.0.1 in /opt/anaconda3/lib/python3.12/site-packages (from matplotlib>=2.1->corner) (1.2.0)\n",
      "Requirement already satisfied: cycler>=0.10 in /opt/anaconda3/lib/python3.12/site-packages (from matplotlib>=2.1->corner) (0.11.0)\n",
      "Requirement already satisfied: fonttools>=4.22.0 in /opt/anaconda3/lib/python3.12/site-packages (from matplotlib>=2.1->corner) (4.51.0)\n",
      "Requirement already satisfied: kiwisolver>=1.3.1 in /opt/anaconda3/lib/python3.12/site-packages (from matplotlib>=2.1->corner) (1.4.4)\n",
      "Requirement already satisfied: numpy>=1.21 in /opt/anaconda3/lib/python3.12/site-packages (from matplotlib>=2.1->corner) (1.26.4)\n",
      "Requirement already satisfied: packaging>=20.0 in /opt/anaconda3/lib/python3.12/site-packages (from matplotlib>=2.1->corner) (23.2)\n",
      "Requirement already satisfied: pillow>=8 in /opt/anaconda3/lib/python3.12/site-packages (from matplotlib>=2.1->corner) (10.3.0)\n",
      "Requirement already satisfied: pyparsing>=2.3.1 in /opt/anaconda3/lib/python3.12/site-packages (from matplotlib>=2.1->corner) (3.0.9)\n",
      "Requirement already satisfied: python-dateutil>=2.7 in /opt/anaconda3/lib/python3.12/site-packages (from matplotlib>=2.1->corner) (2.9.0.post0)\n",
      "Requirement already satisfied: six>=1.5 in /opt/anaconda3/lib/python3.12/site-packages (from python-dateutil>=2.7->matplotlib>=2.1->corner) (1.16.0)\n"
     ]
    }
   ],
   "source": [
    "! pip install rebound\n",
    "! pip install emcee\n",
    "! pip install corner\n",
    "import rebound\n",
    "import emcee\n",
    "import corner\n",
    "import numpy as np\n",
    "import matplotlib.pyplot as plt"
   ]
  },
  {
   "cell_type": "markdown",
   "metadata": {},
   "source": [
    "We start by creating some artifical radial velocity data. Naturally, we also use REBOUND for this."
   ]
  },
  {
   "cell_type": "code",
   "execution_count": 1450,
   "metadata": {},
   "outputs": [],
   "source": [
    "sim = rebound.Simulation()\n",
    "sim.units = [\"msun\", \"m\", \"s\"] # Units of solar mass, meters, and seconds"
   ]
  },
  {
   "cell_type": "markdown",
   "metadata": {},
   "source": [
    "We add a star and two Jupiter mass planets on 21 and 30 day orbits. The inner planet has an eccentricity of 0.1 (here expressed in terms of h and k variables)."
   ]
  },
  {
   "cell_type": "code",
   "execution_count": 1452,
   "metadata": {},
   "outputs": [],
   "source": [
    "mstar =1\n",
    "sim.add(m=mstar) #star\n",
    "sim.add(m=1e-3, P=100*60*60*24, h=0.05, k=0.01) #Planet 1\n",
    "sim.add(m=1e-3, P=10*60*60*24, h=0.05, k=0.01) #Planet 2\n",
    "sim.move_to_com()"
   ]
  },
  {
   "cell_type": "markdown",
   "metadata": {},
   "source": [
    "We simulate 30 randomly spaced observations over a 50 day interval and add some noise along the way. We assume the line of sight is along the x direction. "
   ]
  },
  {
   "cell_type": "code",
   "execution_count": 1454,
   "metadata": {},
   "outputs": [],
   "source": [
    "N     = 90\n",
    "error = 30\n",
    "noise = 20\n",
    "\n",
    "times = np.sort(50*60*60*24*np.random.random(N)) # 30 randomly spaced observations\n",
    "RVs = np.zeros(N)\n",
    "for i, t in enumerate(times):\n",
    "    sim.integrate(times[i])\n",
    "    RVs[i] = sim.particles[0].vx # radial velocity of the host star\n",
    "RVs += np.random.normal(size=N, scale=noise) # add 20m/s Gaussian noise"
   ]
  },
  {
   "cell_type": "markdown",
   "metadata": {},
   "source": [
    "This is how our artificial dataset looks like:"
   ]
  },
  {
   "cell_type": "code",
   "execution_count": 1456,
   "metadata": {},
   "outputs": [
    {
     "data": {
      "image/png": "[encoded data removed]",
      "text/plain": [
       "<Figure size 640x480 with 1 Axes>"
      ]
     },
     "metadata": {},
     "output_type": "display_data"
    }
   ],
   "source": [
    "fig, ax = plt.subplots(1,1)\n",
    "ax.set_xlabel(\"time [days]\")\n",
    "ax.set_ylabel(\"radial velocity [m/s]\")\n",
    "ax.errorbar(times/(24*60*60), RVs, yerr=error, fmt=\"o\");"
   ]
  },
  {
   "cell_type": "markdown",
   "metadata": {},
   "source": [
    "Next, we create a likelihood function. For simplicity, we assume a flat prior for all parameters. So effectively, our MCMC will sample the likelihood function and we will interpret this as our posterior. As part of an actual data reduction pipeline, you will probably have a more complicated model with physically motivated priors. At the very least, you should add some basic sanity checks to your prior. For example, the mass should never become negative. \n",
    "\n",
    "To further simplify things a little, we restrict the planetary system to always be in the x-y plane. This means we have 5 free parameters per planet, 2 positions, 2 velocities, and 1 mass. We will run the MCMC in a coordinate system where we use the period $P$, the orbital phase in terms of the mean longitude $l$, and $h$ and $k$. We use $h$ and $k$ instead of the eccentricity and the argument of periastron to avoid a coordinate singularity in the case of $e=0$. We consider the mass of the host star as fixed."
   ]
  },
  {
   "cell_type": "code",
   "execution_count": 1458,
   "metadata": {},
   "outputs": [],
   "source": [
    "def setup_sim(params):\n",
    "    P1, P2, l1, l2, h1, h2, k1, k2, m1, m2 = params # unpack\n",
    "    #P1, l1, h1, k1, m1 = params # unpack\n",
    "    sim = rebound.Simulation()\n",
    "    sim.units = [\"msun\", \"m\", \"s\"]\n",
    "    sim.add(m=mstar)\n",
    "    sim.add(m=m1, P=P1*60*60*24, h=h1, k=k1, l=l1)  #First planet\n",
    "    sim.add(m=m2, P=P2*60*60*24, h=h2, k=k2, l=l2)  #Second planet\n",
    "    sim.move_to_com()\n",
    "    return sim\n",
    "def log_likelihood(params, times, RVs):\n",
    "    ll = 0. # We use the log likelihood to avoid numerical issues with very small/large numbers\n",
    "    sigma = error # We assume the error bars are 30 m/s for all observations\n",
    "    sim = setup_sim(params)\n",
    "    for i, t in enumerate(times):\n",
    "        sim.integrate(times[i])\n",
    "        deltaRV = sim.particles[0].vx - RVs[i]\n",
    "        ll += -(deltaRV/sigma)**2\n",
    "    return ll"
   ]
  },
  {
   "cell_type": "markdown",
   "metadata": {},
   "source": [
    "Next, we need to come up with some reasonable initial conditions. The closer we start to the correct solution, the faster the MCMC will converge. For this example, we'll start very close. Note that we should in principle also allow other parameters to vary. For example, the noise should be modelled self-consistently, rather than assuming Gaussian noise with a given strength. We should also allow for an arbitrary offset to the radial velocity in case the system is moving towards or away from us. We might also want to allow for a linear term in the radial velocity that can account for yet undetected perturbers further out."
   ]
  },
  {
   "cell_type": "code",
   "execution_count": 1460,
   "metadata": {},
   "outputs": [],
   "source": [
    "#For one planet\n",
    "#ndim, nwalkers = 5*1, 20\n",
    "#P1, l1, h1, k1, m1\n",
    "#ic = [567.0, 0.01, 0.01, 0.01, 1e-4]\n",
    "\n",
    "#For two planets\n",
    "ndim, nwalkers = 5*2, 20\n",
    "# P1, P2, l1, l2, h1, h2, k1, k2, m1, m2\n",
    "ic = [100.0, 10.0, 0.01, 0.01, 0.05, 0.05, 0.01, 0.01, 1e-3, 1e-3] \n",
    "\n",
    "ic = np.tile(ic,(nwalkers,1)) # copy initial conditions for each walker\n",
    "ic += 0.05*np.random.random((nwalkers,ndim))*ic # slightly perturb initial conditions"
   ]
  },
  {
   "cell_type": "markdown",
   "metadata": {},
   "source": [
    "Now we can finally run the MCMC for 500 iterations. We have 20 walkers, so this will generate 10000 samples. This may take a minute or two."
   ]
  },
  {
   "cell_type": "code",
   "execution_count": 1462,
   "metadata": {},
   "outputs": [
    {
     "ename": "ValueError",
     "evalue": "Probability function returned NaN",
     "output_type": "error",
     "traceback": [
      "\u001b[0;31m---------------------------------------------------------------------------\u001b[0m",
      "\u001b[0;31mValueError\u001b[0m                                Traceback (most recent call last)",
      "Cell \u001b[0;32mIn[1462], line 2\u001b[0m\n\u001b[1;32m      1\u001b[0m sampler \u001b[38;5;241m=\u001b[39m emcee\u001b[38;5;241m.\u001b[39mEnsembleSampler(nwalkers, ndim, log_likelihood, args\u001b[38;5;241m=\u001b[39m[times, RVs])\n\u001b[0;32m----> 2\u001b[0m state \u001b[38;5;241m=\u001b[39m sampler\u001b[38;5;241m.\u001b[39mrun_mcmc(ic, \u001b[38;5;241m500\u001b[39m)\n",
      "File \u001b[0;32m/opt/anaconda3/lib/python3.12/site-packages/emcee/ensemble.py:450\u001b[0m, in \u001b[0;36mEnsembleSampler.run_mcmc\u001b[0;34m(self, initial_state, nsteps, **kwargs)\u001b[0m\n\u001b[1;32m    447\u001b[0m     initial_state \u001b[38;5;241m=\u001b[39m \u001b[38;5;28mself\u001b[39m\u001b[38;5;241m.\u001b[39m_previous_state\n\u001b[1;32m    449\u001b[0m results \u001b[38;5;241m=\u001b[39m \u001b[38;5;28;01mNone\u001b[39;00m\n\u001b[0;32m--> 450\u001b[0m \u001b[38;5;28;01mfor\u001b[39;00m results \u001b[38;5;129;01min\u001b[39;00m \u001b[38;5;28mself\u001b[39m\u001b[38;5;241m.\u001b[39msample(initial_state, iterations\u001b[38;5;241m=\u001b[39mnsteps, \u001b[38;5;241m*\u001b[39m\u001b[38;5;241m*\u001b[39mkwargs):\n\u001b[1;32m    451\u001b[0m     \u001b[38;5;28;01mpass\u001b[39;00m\n\u001b[1;32m    453\u001b[0m \u001b[38;5;66;03m# Store so that the ``initial_state=None`` case will work\u001b[39;00m\n",
      "File \u001b[0;32m/opt/anaconda3/lib/python3.12/site-packages/emcee/ensemble.py:409\u001b[0m, in \u001b[0;36mEnsembleSampler.sample\u001b[0;34m(self, initial_state, log_prob0, rstate0, blobs0, iterations, tune, skip_initial_state_check, thin_by, thin, store, progress, progress_kwargs)\u001b[0m\n\u001b[1;32m    406\u001b[0m move \u001b[38;5;241m=\u001b[39m \u001b[38;5;28mself\u001b[39m\u001b[38;5;241m.\u001b[39m_random\u001b[38;5;241m.\u001b[39mchoice(\u001b[38;5;28mself\u001b[39m\u001b[38;5;241m.\u001b[39m_moves, p\u001b[38;5;241m=\u001b[39m\u001b[38;5;28mself\u001b[39m\u001b[38;5;241m.\u001b[39m_weights)\n\u001b[1;32m    408\u001b[0m \u001b[38;5;66;03m# Propose\u001b[39;00m\n\u001b[0;32m--> 409\u001b[0m state, accepted \u001b[38;5;241m=\u001b[39m move\u001b[38;5;241m.\u001b[39mpropose(model, state)\n\u001b[1;32m    410\u001b[0m state\u001b[38;5;241m.\u001b[39mrandom_state \u001b[38;5;241m=\u001b[39m \u001b[38;5;28mself\u001b[39m\u001b[38;5;241m.\u001b[39mrandom_state\n\u001b[1;32m    412\u001b[0m \u001b[38;5;28;01mif\u001b[39;00m tune:\n",
      "File \u001b[0;32m/opt/anaconda3/lib/python3.12/site-packages/emcee/moves/red_blue.py:93\u001b[0m, in \u001b[0;36mRedBlueMove.propose\u001b[0;34m(self, model, state)\u001b[0m\n\u001b[1;32m     90\u001b[0m q, factors \u001b[38;5;241m=\u001b[39m \u001b[38;5;28mself\u001b[39m\u001b[38;5;241m.\u001b[39mget_proposal(s, c, model\u001b[38;5;241m.\u001b[39mrandom)\n\u001b[1;32m     92\u001b[0m \u001b[38;5;66;03m# Compute the lnprobs of the proposed position.\u001b[39;00m\n\u001b[0;32m---> 93\u001b[0m new_log_probs, new_blobs \u001b[38;5;241m=\u001b[39m model\u001b[38;5;241m.\u001b[39mcompute_log_prob_fn(q)\n\u001b[1;32m     95\u001b[0m \u001b[38;5;66;03m# Loop over the walkers and update them accordingly.\u001b[39;00m\n\u001b[1;32m     96\u001b[0m \u001b[38;5;28;01mfor\u001b[39;00m i, (j, f, nlp) \u001b[38;5;129;01min\u001b[39;00m \u001b[38;5;28menumerate\u001b[39m(\n\u001b[1;32m     97\u001b[0m     \u001b[38;5;28mzip\u001b[39m(all_inds[S1], factors, new_log_probs)\n\u001b[1;32m     98\u001b[0m ):\n",
      "File \u001b[0;32m/opt/anaconda3/lib/python3.12/site-packages/emcee/ensemble.py:551\u001b[0m, in \u001b[0;36mEnsembleSampler.compute_log_prob\u001b[0;34m(self, coords)\u001b[0m\n\u001b[1;32m    549\u001b[0m \u001b[38;5;66;03m# Check for log_prob returning NaN.\u001b[39;00m\n\u001b[1;32m    550\u001b[0m \u001b[38;5;28;01mif\u001b[39;00m np\u001b[38;5;241m.\u001b[39many(np\u001b[38;5;241m.\u001b[39misnan(log_prob)):\n\u001b[0;32m--> 551\u001b[0m     \u001b[38;5;28;01mraise\u001b[39;00m \u001b[38;5;167;01mValueError\u001b[39;00m(\u001b[38;5;124m\"\u001b[39m\u001b[38;5;124mProbability function returned NaN\u001b[39m\u001b[38;5;124m\"\u001b[39m)\n\u001b[1;32m    553\u001b[0m \u001b[38;5;28;01mreturn\u001b[39;00m log_prob, blob\n",
      "\u001b[0;31mValueError\u001b[0m: Probability function returned NaN"
     ]
    }
   ],
   "source": [
    "sampler = emcee.EnsembleSampler(nwalkers, ndim, log_likelihood, args=[times, RVs])\n",
    "state = sampler.run_mcmc(ic, 500)"
   ]
  },
  {
   "cell_type": "markdown",
   "metadata": {},
   "source": [
    "Let us check the convergence of the MCMC by plotting the log probability. "
   ]
  },
  {
   "cell_type": "code",
   "execution_count": null,
   "metadata": {},
   "outputs": [],
   "source": [
    "fig, ax = plt.subplots(1,1)\n",
    "ax.set_xlabel(\"iterations\")\n",
    "ax.set_ylabel(\"log probability\")\n",
    "ax.plot(sampler.flatlnprobability);"
   ]
  },
  {
   "cell_type": "markdown",
   "metadata": {},
   "source": [
    "This plots gives us some convidence that we have converged. Let's make a corner plot, comparing the posterior samples to the true values which we used to setup our test system. We cut out the first quarter of the MCMC (the burn-in phase)."
   ]
  },
  {
   "cell_type": "code",
   "execution_count": null,
   "metadata": {},
   "outputs": [],
   "source": [
    "corner.corner(sampler.flatchain[2500:],\n",
    "              #For two planets\n",
    "              labels = [\"P1\",\"P2\",\"l1\",\"l2\",\"h1\",\"h2\",\"k1\",\"k2\",\"m1\",\"m2\"], \n",
    "              truths = [100,10,0,0,0.5,0.05,0.01,0.01,1e-3,1e-3]);\n",
    "\n",
    "              #For one planet\n",
    "              #labels = [\"P1\",\"l1\",\"h1\",\"k1\",\"m1\"], \n",
    "              #truths = [21,0,0.1,0,1e-3]);"
   ]
  },
  {
   "cell_type": "markdown",
   "metadata": {},
   "source": [
    "That's a pretty good recovery of the correct parameters (but to be fair, we started pretty close to them). Let's draw a few random samples from the posterior and plot the corresponding RV curves so we can compare our model to our data."
   ]
  },
  {
   "cell_type": "code",
   "execution_count": null,
   "metadata": {},
   "outputs": [],
   "source": [
    "fig, ax = plt.subplots(1,1)\n",
    "ax.set_xlabel(\"time [days]\")\n",
    "ax.set_ylabel(\"radial velocity [m/s]\")\n",
    "\n",
    "times_plot = np.linspace(0,times[-1],1000)\n",
    "RVs_plot = np.zeros(len(times_plot))\n",
    "Nplot = 20\n",
    "indx = np.random.choice(7500, Nplot, replace=False)\n",
    "for i in range(Nplot):\n",
    "    s = setup_sim(sampler.flatchain[2500+indx[i]]) # skipping burn-in\n",
    "    for j, t in enumerate(times_plot):\n",
    "        s.integrate(t)\n",
    "        RVs_plot[j] = s.particles[0].vx\n",
    "    ax.plot(times_plot/(24*60*60), RVs_plot, color=\"black\", alpha=0.13)\n",
    "    \n",
    "ax.errorbar(times/(24*60*60), RVs, yerr=error, fmt=\"o\");    \n",
    "    "
   ]
  },
  {
   "cell_type": "code",
   "execution_count": null,
   "metadata": {},
   "outputs": [],
   "source": []
  },
  {
   "cell_type": "code",
   "execution_count": null,
   "metadata": {},
   "outputs": [],
   "source": []
  }
 ],
 "metadata": {
  "kernelspec": {
   "display_name": "Python 3 (ipykernel)",
   "language": "python",
   "name": "python3"
  },
  "language_info": {
   "codemirror_mode": {
    "name": "ipython",
    "version": 3
   },
   "file_extension": ".py",
   "mimetype": "text/x-python",
   "name": "python",
   "nbconvert_exporter": "python",
   "pygments_lexer": "ipython3",
   "version": "3.12.4"
  }
 },
 "nbformat": 4,
 "nbformat_minor": 4
}
